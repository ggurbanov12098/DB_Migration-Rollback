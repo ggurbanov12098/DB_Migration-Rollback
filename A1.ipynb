{
 "cells": [
  {
   "cell_type": "markdown",
   "metadata": {},
   "source": [
    "# Part 1: Connecting to DB, Creating Tables, Inserting Data"
   ]
  },
  {
   "cell_type": "code",
   "execution_count": null,
   "metadata": {},
   "outputs": [],
   "source": [
    "import psycopg2 as psql # pip install psycopg2\n",
    "\n",
    "# Database connection parameters\n",
    "DB_NAME = 'postgres'\n",
    "DB_USER = ''\n",
    "DB_PASSWORD = 'hawx'\n",
    "DB_HOST = '127.0.0.1'\n",
    "DB_PORT = 5432\n",
    "\n",
    "# Connect to PostgreSQL\n",
    "conn = psql.connect(\n",
    "    dbname=DB_NAME,\n",
    "    user=DB_USER,\n",
    "    password=DB_PASSWORD,\n",
    "    host=DB_HOST,\n",
    "    port=DB_PORT\n",
    ")\n",
    "\n",
    "cur = conn.cursor()\n",
    "\n",
    "#This method adds the reverse of the executed command to rollback_commands list\n",
    "def rollback_log_file(command, rollback_command):\n",
    "    rollback_command.append(command)"
   ]
  },
  {
   "cell_type": "code",
   "execution_count": null,
   "metadata": {},
   "outputs": [],
   "source": [
    "# SQL queries for table creation\n",
    "create_tables = [\n",
    "    \"\"\"\n",
    "    CREATE TABLE IF NOT EXISTS students (\n",
    "        st_id SERIAL PRIMARY KEY,\n",
    "        st_name VARCHAR(20),\n",
    "        st_last VARCHAR(20)\n",
    "    );\n",
    "    \"\"\",\n",
    "    \"\"\"\n",
    "    CREATE TABLE IF NOT EXISTS interests (\n",
    "        --interests_id SERIAL PRIMARY KEY,\n",
    "        student_id INT NOT NULL,\n",
    "        interest VARCHAR(20),\n",
    "        CONSTRAINT fk FOREIGN KEY (student_id) REFERENCES students(st_id) ON DELETE CASCADE\n",
    "    );\n",
    "    \"\"\"\n",
    "]\n",
    "\n",
    "def createTables():\n",
    "    for query in create_tables:\n",
    "        cur.execute(query)\n",
    "        conn.commit()\n",
    "\n",
    "createTables()\n",
    "\n",
    "# SQL queries for sample data insertion\n",
    "insert_data = [\n",
    "    \"\"\"\n",
    "    INSERT INTO students (st_name, st_last) VALUES\n",
    "    ('Konul', 'Gurbanova'),\n",
    "    ('Shahnur', 'Isgandarli'),\n",
    "    ('Natavan', 'Mammadova');\n",
    "    \"\"\",\n",
    "    \"\"\"\n",
    "    INSERT INTO interests (student_id, interest) VALUES\n",
    "    (1, 'Tennis'),\n",
    "    (1, 'Literature'),\n",
    "    (2, 'Math'),\n",
    "    (2, 'Tennis'),\n",
    "    (3, 'Math'),\n",
    "    (3, 'Music'),\n",
    "    (2, 'Football'),\n",
    "    (1, 'Chemistry'),\n",
    "    (3, 'Chess');\n",
    "    \"\"\"\n",
    "]\n",
    "\n",
    "def insertData():\n",
    "    for query in insert_data:\n",
    "        cur.execute(query)\n",
    "        conn.commit()\n",
    "\n",
    "insertData()"
   ]
  },
  {
   "cell_type": "markdown",
   "metadata": {},
   "source": [
    "# Part 2: Migration Code"
   ]
  },
  {
   "cell_type": "code",
   "execution_count": 1,
   "metadata": {},
   "outputs": [],
   "source": [
    "def renameColumn(cur, rollback_command):\n",
    "    cur.execute('ALTER TABLE students RENAME COLUMN st_id TO student_id;')\n",
    "    rollback_log_file('ALTER TABLE students RENAME COLUMN student_id TO st_id;', rollback_command)\n",
    "    cur.execute('ALTER TABLE interests RENAME COLUMN interest TO interests;')\n",
    "    rollback_log_file('ALTER TABLE interests RENAME COLUMN interests TO interest;', rollback_command)\n",
    "\n",
    "def changeLenColumn(cur, rollback_command):\n",
    "    cur.execute('ALTER TABLE students ALTER COLUMN st_name TYPE VARCHAR(30);')\n",
    "    rollback_log_file('ALTER TABLE students ALTER COLUMN st_name TYPE VARCHAR(20);', rollback_command)\n",
    "    cur.execute('ALTER TABLE students ALTER COLUMN st_last TYPE VARCHAR(30);')\n",
    "    rollback_log_file('ALTER TABLE students ALTER COLUMN st_last TYPE VARCHAR(20);', rollback_command)\n",
    "\n",
    "\n",
    "def migrateInterests(cur, rollback_command):\n",
    "    cur.execute('SELECT * FROM interests;')\n",
    "    temp = cur.fetchall() # variable holds temporarily the retrieved data from the last(old) interests table\n",
    "\n",
    "    cur.execute('DROP TABLE interests CASCADE;')\n",
    "    rollback_log_file('DROP TABLE interests CASCADE;', rollback_command)\n",
    "    cur.execute('CREATE TABLE interests (student_id INT NOT NULL, interests TEXT [], CONSTRAINT fk FOREIGN KEY (student_id) REFERENCES students(student_id) ON DELETE CASCADE);')\n",
    "    rollback_log_file('CREATE TABLE interests (student_id INT NOT NULL, interest VARCHAR(20), CONSTRAINT fk FOREIGN KEY (student_id) REFERENCES students(st_id) ON DELETE CASCADE);', rollback_command)\n",
    "    \n",
    "    dict = {} #Dictionary or array of strings to store interests\n",
    "    for res in temp:\n",
    "        student_id = res[0] #key represents student_id\n",
    "        interest_name = res[1] #value is the name of the interest\n",
    "        if not student_id in dict:\n",
    "            dict[student_id] = [interest_name] #if student_id does not exist in the dictionary add it\n",
    "        else:\n",
    "            dict[student_id].append(interest_name) #if it exists append its list by the interest name\n",
    "        rollback_log_file(\"INSERT INTO interests VALUES (%s, '%s');\" % (student_id, interest_name), rollback_command)\n",
    "\n",
    "    #Inserting arrays into the new table\n",
    "    for student_id, interest_name in dict.items():\n",
    "        cur.execute(\"INSERT INTO interests (student_id, interests) VALUES (%s, %s);\", (student_id, interest_name))\n"
   ]
  },
  {
   "cell_type": "markdown",
   "metadata": {},
   "source": [
    "# Migration Process Execution\n",
    "run this code to migrate the contents of interests table"
   ]
  },
  {
   "cell_type": "code",
   "execution_count": null,
   "metadata": {},
   "outputs": [],
   "source": [
    "rollback_command = []\n",
    "try:\n",
    "    renameColumn(cur, rollback_command)\n",
    "    changeLenColumn(cur, rollback_command)\n",
    "    migrateInterests(cur, rollback_command)\n",
    "    conn.commit()\n",
    "    with open(\"rollback_log.txt\",\"w\") as f:\n",
    "        f.write('\\n'.join(rollback_command))\n",
    "except Exception as e:\n",
    "    print(str(e))\n",
    "    print(\"Migration failed, be sure that you do NOT execute migration process more than once in a row\")\n"
   ]
  },
  {
   "cell_type": "markdown",
   "metadata": {},
   "source": [
    "# Part 3: Rollback Process Execution\n",
    "execute this code to rollback latest changes "
   ]
  },
  {
   "cell_type": "code",
   "execution_count": null,
   "metadata": {},
   "outputs": [],
   "source": [
    "def rollback(cur, rollback_command):\n",
    "    for command in rollback_command:\n",
    "        cur.execute(command)        \n",
    "        \n",
    "try:\n",
    "    rollback(cur, open(\"rollback_log.txt\").read().split(\"\\n\"))\n",
    "    conn.commit()\n",
    "except Exception as e:\n",
    "    print(str(e))\n",
    "    print(\"Rollback failed\")\n",
    "\n",
    "conn.commit()"
   ]
  }
 ],
 "metadata": {
  "kernelspec": {
   "display_name": "base",
   "language": "python",
   "name": "python3"
  },
  "language_info": {
   "codemirror_mode": {
    "name": "ipython",
    "version": 3
   },
   "file_extension": ".py",
   "mimetype": "text/x-python",
   "name": "python",
   "nbconvert_exporter": "python",
   "pygments_lexer": "ipython3",
   "version": "3.1.0"
  }
 },
 "nbformat": 4,
 "nbformat_minor": 2
}
